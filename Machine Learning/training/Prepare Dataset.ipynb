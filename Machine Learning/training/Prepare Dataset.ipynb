{
 "cells": [
  {
   "attachments": {},
   "cell_type": "markdown",
   "metadata": {},
   "source": [
    "##Preparation Dataset\n",
    "\n",
    "Download Dataset From this link : https://drive.google.com/file/d/16KiEYXwuOs8ZvEGLrjxpbg_sZn4L_8zP/view?usp=sharing \n",
    "\n",
    "Then put it this compress file in your project\n",
    "\n",
    "and follow step bellow"
   ]
  },
  {
   "cell_type": "code",
   "execution_count": 14,
   "metadata": {},
   "outputs": [],
   "source": [
    "# Import Library\n",
    "import zipfile\n",
    "import os\n",
    "from matplotlib import image, pyplot"
   ]
  },
  {
   "cell_type": "code",
   "execution_count": 15,
   "metadata": {},
   "outputs": [],
   "source": [
    "# Unzip Compress File\n",
    "zip_file_path = \"./Garbage classification.zip\"  # Replace with the actual path to your ZIP file\n",
    "destination_dir = \"./data/\"  # Replace with the desired path to create the directory\n",
    "\n",
    "# Create the destination directory if it doesn't exist\n",
    "os.makedirs(destination_dir, exist_ok=True)\n",
    "\n",
    "# Extract the contents of the ZIP file to the destination directory\n",
    "with zipfile.ZipFile(zip_file_path, 'r') as zip_ref:\n",
    "    zip_ref.extractall(destination_dir)"
   ]
  },
  {
   "cell_type": "code",
   "execution_count": 16,
   "metadata": {},
   "outputs": [],
   "source": [
    "# Declaration file location\n",
    "base_path = './data/Garbage classification/'\n",
    "labels = os.listdir(base_path)"
   ]
  },
  {
   "cell_type": "code",
   "execution_count": 17,
   "metadata": {},
   "outputs": [
    {
     "name": "stdout",
     "output_type": "stream",
     "text": [
      "410 \tBesi\n",
      "501 \tKaca\n",
      "403 \tKardus\n",
      "594 \tKertas\n",
      "12565 \tOrganik\n",
      "482 \tPlastik\n"
     ]
    }
   ],
   "source": [
    "for label in labels:\n",
    "    directory = os.path.join(base_path, label)\n",
    "    print(len(os.listdir(directory)), \"\\t\" + label)"
   ]
  },
  {
   "cell_type": "code",
   "execution_count": 18,
   "metadata": {},
   "outputs": [
    {
     "name": "stdout",
     "output_type": "stream",
     "text": [
      "(384, 512, 3) \tBesi\n",
      "(384, 512, 3) \tKaca\n",
      "(384, 512, 3) \tKardus\n",
      "(384, 512, 3) \tKertas\n",
      "(242, 208, 3) \tOrganik\n",
      "(384, 512, 3) \tPlastik\n"
     ]
    }
   ],
   "source": [
    "for label in labels:\n",
    "    directory = os.path.join(base_path, label)\n",
    "    path = os.path.join(directory, os.listdir(directory)[0])\n",
    "    i = image.imread(path)\n",
    "    print(i.shape, \"\\t\" + label)"
   ]
  }
 ],
 "metadata": {
  "kernelspec": {
   "display_name": "Python 3",
   "language": "python",
   "name": "python3"
  },
  "language_info": {
   "codemirror_mode": {
    "name": "ipython",
    "version": 3
   },
   "file_extension": ".py",
   "mimetype": "text/x-python",
   "name": "python",
   "nbconvert_exporter": "python",
   "pygments_lexer": "ipython3",
   "version": "3.7.16"
  },
  "orig_nbformat": 4
 },
 "nbformat": 4,
 "nbformat_minor": 2
}
